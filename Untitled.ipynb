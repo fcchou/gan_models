{
 "cells": [
  {
   "cell_type": "code",
   "execution_count": 1,
   "metadata": {},
   "outputs": [
    {
     "name": "stderr",
     "output_type": "stream",
     "text": [
      "Using TensorFlow backend.\n"
     ]
    }
   ],
   "source": [
    "import keras\n",
    "import keras.backend as K\n",
    "import numpy as np\n",
    "import matplotlib.pyplot as plt\n",
    "from tensorflow import Tensor\n",
    "\n",
    "from gan_models.model_layers import get_dcgan_discriminator, get_dcgan_generator, ConvParams\n",
    "from gan_models.loss_func import gan_discriminator_loss, gan_generator_loss\n",
    "from gan_models.gan_trainer import GanTrainer\n",
    "from gan_models.common import get_mnist_images, train_gan_standard\n",
    "\n",
    "\n",
    "MNIST_SHAPE = (28, 28, 1)\n",
    "G_INPUT_SIZE = 100\n",
    "\n",
    "\n",
    "def get_gan_model():\n",
    "    generator = get_dcgan_generator(\n",
    "        input_dim=G_INPUT_SIZE,\n",
    "        shape_layer1=(7, 7, 128),\n",
    "        conv_params_list=[\n",
    "            ConvParams(filters=64, kernel_sizes=5, strides=2),\n",
    "            ConvParams(filters=MNIST_SHAPE[-1], kernel_sizes=5, strides=2),\n",
    "        ],\n",
    "        use_batch_norm=False,\n",
    "    )\n",
    "    discriminator = get_dcgan_discriminator(\n",
    "        input_shape=MNIST_SHAPE,\n",
    "        conv_params_list=[\n",
    "            ConvParams(filters=64, kernel_sizes=5, strides=2),\n",
    "            ConvParams(filters=128, kernel_sizes=5, strides=2),\n",
    "        ],\n",
    "        use_batch_norm=False,\n",
    "        clip_weight=None,\n",
    "    )\n",
    "\n",
    "    model_train = GanTrainer(generator, discriminator)\n",
    "    model_train.gan_compile(\n",
    "        #'adam',\n",
    "        keras.optimizers.Adam(lr=0.0001, beta_1=0, beta_2=0.9),\n",
    "        keras.optimizers.Adam(lr=0.0001, beta_1=0, beta_2=0.9),\n",
    "        # Use RMSprop with the below parameters as DCGAN paper recommended\n",
    "        # keras.optimizers.RMSprop(lr=0.00005),\n",
    "        # keras.optimizers.RMSprop(lr=0.00005),\n",
    "        wgan_gradient_lambda=10,\n",
    "        is_wgan=True,\n",
    "    )\n",
    "    return model_train\n",
    "\n",
    "\n",
    "def plot_output(generator):\n",
    "    noise_input = np.random.normal(size=(49, G_INPUT_SIZE))\n",
    "    generated_images = generator.predict(noise_input)\n",
    "\n",
    "    plt.figure(figsize=(10, 10))\n",
    "    for i in range(generated_images.shape[0]):\n",
    "        plt.subplot(7, 7, i + 1)\n",
    "        plt.imshow(generated_images[i, :, :, 0], cmap='gray')\n",
    "        plt.axis('off')\n",
    "    plt.tight_layout()\n",
    "\n",
    "\n",
    "def main():\n",
    "    input_images, _ = get_mnist_images()\n",
    "\n",
    "    gan_model = get_gan_model()\n",
    "\n",
    "    # DCGAN recommends batch_size=128\n",
    "    train_gan_standard()\n",
    "\n",
    "    for epoch_num, d_loss, g_loss in train_gan_standard(\n",
    "        input_images,\n",
    "        lambda x: gan_model.discriminator_train_on_batch(x),\n",
    "        lambda x: gan_model.generator_train_on_batch(x),\n",
    "        epochs=5,\n",
    "        batch_size=128,\n",
    "    ):\n",
    "        print('Epoch {}; D-loss: {}, G-loss: {}'.format(epoch_num, d_loss, g_loss))\n",
    "\n",
    "    # Train GAN with the fast training trick, see the documentation of GanModel.\n",
    "    # On GTX 1070 is around 30% faster then the standard protocol above.\n",
    "    gan_model.gan_fit(input_images, epochs=100, batch_size=128)\n",
    "\n",
    "    plot_output(gan_model.generator)\n",
    "    plt.savefig('dcgan_mnist.png', dpi=200)\n",
    "\n",
    "    gan_model.generator.save('dcgan_minst_g.hdf5')\n",
    "    gan_model.discriminator.save('dcgan_minst_d.hdf5')"
   ]
  },
  {
   "cell_type": "code",
   "execution_count": 2,
   "metadata": {},
   "outputs": [],
   "source": [
    "(x_train, _), (x_test, _) = get_mnist_images()\n",
    "gan_model = get_gan_model()"
   ]
  },
  {
   "cell_type": "code",
   "execution_count": 3,
   "metadata": {},
   "outputs": [],
   "source": [
    "# gan_model.gan_fit(input_images, batch_size=128, epochs=20)"
   ]
  },
  {
   "cell_type": "code",
   "execution_count": 4,
   "metadata": {},
   "outputs": [
    {
     "name": "stderr",
     "output_type": "stream",
     "text": [
      "100%|██████████| 937/937 [00:37<00:00, 25.11it/s]\n",
      "  0%|          | 0/937 [00:00<?, ?it/s]"
     ]
    },
    {
     "name": "stdout",
     "output_type": "stream",
     "text": [
      "Epoch 0; D-loss: -10.29299545288086, G-loss: 1.7690373659133911\n"
     ]
    },
    {
     "name": "stderr",
     "output_type": "stream",
     "text": [
      "100%|██████████| 937/937 [00:35<00:00, 26.04it/s]\n",
      "  0%|          | 3/937 [00:00<00:31, 29.27it/s]"
     ]
    },
    {
     "name": "stdout",
     "output_type": "stream",
     "text": [
      "Epoch 1; D-loss: -6.63275671005249, G-loss: -4.943995475769043\n"
     ]
    },
    {
     "name": "stderr",
     "output_type": "stream",
     "text": [
      "100%|██████████| 937/937 [00:36<00:00, 25.87it/s]\n",
      "  0%|          | 0/937 [00:00<?, ?it/s]"
     ]
    },
    {
     "name": "stdout",
     "output_type": "stream",
     "text": [
      "Epoch 2; D-loss: -3.651801824569702, G-loss: -4.427618980407715\n"
     ]
    },
    {
     "name": "stderr",
     "output_type": "stream",
     "text": [
      "100%|██████████| 937/937 [00:35<00:00, 25.61it/s]\n",
      "  0%|          | 0/937 [00:00<?, ?it/s]"
     ]
    },
    {
     "name": "stdout",
     "output_type": "stream",
     "text": [
      "Epoch 3; D-loss: -2.946202516555786, G-loss: -0.9880534410476685\n"
     ]
    },
    {
     "name": "stderr",
     "output_type": "stream",
     "text": [
      "100%|██████████| 937/937 [00:36<00:00, 25.73it/s]\n",
      "  0%|          | 0/937 [00:00<?, ?it/s]"
     ]
    },
    {
     "name": "stdout",
     "output_type": "stream",
     "text": [
      "Epoch 4; D-loss: -2.7322468757629395, G-loss: 0.29938048124313354\n"
     ]
    },
    {
     "name": "stderr",
     "output_type": "stream",
     "text": [
      "100%|██████████| 937/937 [00:36<00:00, 26.00it/s]\n",
      "  0%|          | 3/937 [00:00<00:31, 29.25it/s]"
     ]
    },
    {
     "name": "stdout",
     "output_type": "stream",
     "text": [
      "Epoch 5; D-loss: -2.5455281734466553, G-loss: 0.15886059403419495\n"
     ]
    },
    {
     "name": "stderr",
     "output_type": "stream",
     "text": [
      "100%|██████████| 937/937 [00:36<00:00, 25.93it/s]\n",
      "  0%|          | 3/937 [00:00<00:31, 29.25it/s]"
     ]
    },
    {
     "name": "stdout",
     "output_type": "stream",
     "text": [
      "Epoch 6; D-loss: -2.3430867195129395, G-loss: 0.1202540248632431\n"
     ]
    },
    {
     "name": "stderr",
     "output_type": "stream",
     "text": [
      "100%|██████████| 937/937 [00:35<00:00, 26.36it/s]\n",
      "  0%|          | 0/937 [00:00<?, ?it/s]"
     ]
    },
    {
     "name": "stdout",
     "output_type": "stream",
     "text": [
      "Epoch 7; D-loss: -2.1464102268218994, G-loss: 0.2867029011249542\n"
     ]
    },
    {
     "name": "stderr",
     "output_type": "stream",
     "text": [
      "100%|██████████| 937/937 [00:36<00:00, 25.60it/s]\n",
      "  0%|          | 3/937 [00:00<00:34, 26.75it/s]"
     ]
    },
    {
     "name": "stdout",
     "output_type": "stream",
     "text": [
      "Epoch 8; D-loss: -1.9948447942733765, G-loss: 0.17870965600013733\n"
     ]
    },
    {
     "name": "stderr",
     "output_type": "stream",
     "text": [
      "100%|██████████| 937/937 [00:35<00:00, 26.10it/s]\n",
      "  0%|          | 0/937 [00:00<?, ?it/s]"
     ]
    },
    {
     "name": "stdout",
     "output_type": "stream",
     "text": [
      "Epoch 9; D-loss: -1.8741633892059326, G-loss: -0.057947661727666855\n"
     ]
    },
    {
     "name": "stderr",
     "output_type": "stream",
     "text": [
      "100%|██████████| 937/937 [00:36<00:00, 25.78it/s]\n",
      "  0%|          | 3/937 [00:00<00:31, 29.33it/s]"
     ]
    },
    {
     "name": "stdout",
     "output_type": "stream",
     "text": [
      "Epoch 10; D-loss: -1.7768539190292358, G-loss: -0.22656506299972534\n"
     ]
    },
    {
     "name": "stderr",
     "output_type": "stream",
     "text": [
      "100%|██████████| 937/937 [00:35<00:00, 26.06it/s]\n",
      "  0%|          | 3/937 [00:00<00:31, 29.44it/s]"
     ]
    },
    {
     "name": "stdout",
     "output_type": "stream",
     "text": [
      "Epoch 11; D-loss: -1.676517367362976, G-loss: -0.5664317607879639\n"
     ]
    },
    {
     "name": "stderr",
     "output_type": "stream",
     "text": [
      "100%|██████████| 937/937 [00:36<00:00, 25.85it/s]\n",
      "  0%|          | 0/937 [00:00<?, ?it/s]"
     ]
    },
    {
     "name": "stdout",
     "output_type": "stream",
     "text": [
      "Epoch 12; D-loss: -1.589282512664795, G-loss: -0.7050245404243469\n"
     ]
    },
    {
     "name": "stderr",
     "output_type": "stream",
     "text": [
      "100%|██████████| 937/937 [00:36<00:00, 25.70it/s]\n",
      "  0%|          | 3/937 [00:00<00:33, 28.25it/s]"
     ]
    },
    {
     "name": "stdout",
     "output_type": "stream",
     "text": [
      "Epoch 13; D-loss: -1.5233498811721802, G-loss: -0.6750402450561523\n"
     ]
    },
    {
     "name": "stderr",
     "output_type": "stream",
     "text": [
      "100%|██████████| 937/937 [00:36<00:00, 26.64it/s]\n",
      "  0%|          | 4/937 [00:00<00:27, 33.93it/s]"
     ]
    },
    {
     "name": "stdout",
     "output_type": "stream",
     "text": [
      "Epoch 14; D-loss: -1.4477919340133667, G-loss: -0.5937073230743408\n"
     ]
    },
    {
     "name": "stderr",
     "output_type": "stream",
     "text": [
      "100%|██████████| 937/937 [00:36<00:00, 27.89it/s]\n",
      "  0%|          | 3/937 [00:00<00:32, 28.94it/s]"
     ]
    },
    {
     "name": "stdout",
     "output_type": "stream",
     "text": [
      "Epoch 15; D-loss: -1.3845436573028564, G-loss: -0.36775094270706177\n"
     ]
    },
    {
     "name": "stderr",
     "output_type": "stream",
     "text": [
      "100%|██████████| 937/937 [00:35<00:00, 26.27it/s]\n",
      "  0%|          | 3/937 [00:00<00:32, 28.89it/s]"
     ]
    },
    {
     "name": "stdout",
     "output_type": "stream",
     "text": [
      "Epoch 16; D-loss: -1.3258717060089111, G-loss: -0.10647472739219666\n"
     ]
    },
    {
     "name": "stderr",
     "output_type": "stream",
     "text": [
      "100%|██████████| 937/937 [00:36<00:00, 25.77it/s]\n",
      "  0%|          | 0/937 [00:00<?, ?it/s]"
     ]
    },
    {
     "name": "stdout",
     "output_type": "stream",
     "text": [
      "Epoch 17; D-loss: -1.270269513130188, G-loss: 0.10114555805921555\n"
     ]
    },
    {
     "name": "stderr",
     "output_type": "stream",
     "text": [
      "100%|██████████| 937/937 [00:36<00:00, 25.74it/s]\n",
      "  0%|          | 3/937 [00:00<00:31, 29.35it/s]"
     ]
    },
    {
     "name": "stdout",
     "output_type": "stream",
     "text": [
      "Epoch 18; D-loss: -1.2281708717346191, G-loss: 0.3085254430770874\n"
     ]
    },
    {
     "name": "stderr",
     "output_type": "stream",
     "text": [
      "100%|██████████| 937/937 [00:36<00:00, 26.60it/s]\n",
      "  0%|          | 3/937 [00:00<00:33, 27.94it/s]"
     ]
    },
    {
     "name": "stdout",
     "output_type": "stream",
     "text": [
      "Epoch 19; D-loss: -1.1955691576004028, G-loss: 0.47393375635147095\n"
     ]
    },
    {
     "name": "stderr",
     "output_type": "stream",
     "text": [
      "100%|██████████| 937/937 [00:36<00:00, 25.61it/s]\n",
      "  0%|          | 0/937 [00:00<?, ?it/s]"
     ]
    },
    {
     "name": "stdout",
     "output_type": "stream",
     "text": [
      "Epoch 20; D-loss: -1.1637383699417114, G-loss: 0.5836508274078369\n"
     ]
    },
    {
     "name": "stderr",
     "output_type": "stream",
     "text": [
      "100%|██████████| 937/937 [00:36<00:00, 25.78it/s]\n",
      "  0%|          | 3/937 [00:00<00:32, 29.05it/s]"
     ]
    },
    {
     "name": "stdout",
     "output_type": "stream",
     "text": [
      "Epoch 21; D-loss: -1.1381827592849731, G-loss: 0.6812880635261536\n"
     ]
    },
    {
     "name": "stderr",
     "output_type": "stream",
     "text": [
      "100%|██████████| 937/937 [00:36<00:00, 25.96it/s]\n",
      "  0%|          | 0/937 [00:00<?, ?it/s]"
     ]
    },
    {
     "name": "stdout",
     "output_type": "stream",
     "text": [
      "Epoch 22; D-loss: -1.1192610263824463, G-loss: 0.7729494571685791\n"
     ]
    },
    {
     "name": "stderr",
     "output_type": "stream",
     "text": [
      "100%|██████████| 937/937 [00:36<00:00, 25.70it/s]\n",
      "  0%|          | 3/937 [00:00<00:32, 28.83it/s]"
     ]
    },
    {
     "name": "stdout",
     "output_type": "stream",
     "text": [
      "Epoch 23; D-loss: -1.1021627187728882, G-loss: 0.9469637274742126\n"
     ]
    },
    {
     "name": "stderr",
     "output_type": "stream",
     "text": [
      "100%|██████████| 937/937 [00:36<00:00, 25.92it/s]\n",
      "  0%|          | 4/937 [00:00<00:28, 32.93it/s]"
     ]
    },
    {
     "name": "stdout",
     "output_type": "stream",
     "text": [
      "Epoch 24; D-loss: -1.090386986732483, G-loss: 1.063578486442566\n"
     ]
    },
    {
     "name": "stderr",
     "output_type": "stream",
     "text": [
      "100%|██████████| 937/937 [00:35<00:00, 26.22it/s]\n",
      "  0%|          | 3/937 [00:00<00:31, 29.35it/s]"
     ]
    },
    {
     "name": "stdout",
     "output_type": "stream",
     "text": [
      "Epoch 25; D-loss: -1.0771299600601196, G-loss: 1.1135268211364746\n"
     ]
    },
    {
     "name": "stderr",
     "output_type": "stream",
     "text": [
      "100%|██████████| 937/937 [00:35<00:00, 26.43it/s]\n",
      "  0%|          | 2/937 [00:00<00:47, 19.89it/s]"
     ]
    },
    {
     "name": "stdout",
     "output_type": "stream",
     "text": [
      "Epoch 26; D-loss: -1.0621023178100586, G-loss: 1.2298322916030884\n"
     ]
    },
    {
     "name": "stderr",
     "output_type": "stream",
     "text": [
      "100%|██████████| 937/937 [00:36<00:00, 25.63it/s]\n",
      "  0%|          | 0/937 [00:00<?, ?it/s]"
     ]
    },
    {
     "name": "stdout",
     "output_type": "stream",
     "text": [
      "Epoch 27; D-loss: -1.0549752712249756, G-loss: 1.3144689798355103\n"
     ]
    },
    {
     "name": "stderr",
     "output_type": "stream",
     "text": [
      "100%|██████████| 937/937 [00:36<00:00, 25.51it/s]\n",
      "  0%|          | 3/937 [00:00<00:31, 29.41it/s]"
     ]
    },
    {
     "name": "stdout",
     "output_type": "stream",
     "text": [
      "Epoch 28; D-loss: -1.0423321723937988, G-loss: 1.3144690990447998\n"
     ]
    },
    {
     "name": "stderr",
     "output_type": "stream",
     "text": [
      "100%|██████████| 937/937 [00:36<00:00, 25.82it/s]\n",
      "  0%|          | 3/937 [00:00<00:34, 26.94it/s]"
     ]
    },
    {
     "name": "stdout",
     "output_type": "stream",
     "text": [
      "Epoch 29; D-loss: -1.0329551696777344, G-loss: 1.4905736446380615\n"
     ]
    },
    {
     "name": "stderr",
     "output_type": "stream",
     "text": [
      "100%|██████████| 937/937 [00:36<00:00, 25.46it/s]\n",
      "  0%|          | 0/937 [00:00<?, ?it/s]"
     ]
    },
    {
     "name": "stdout",
     "output_type": "stream",
     "text": [
      "Epoch 30; D-loss: -1.0253190994262695, G-loss: 1.5368578433990479\n"
     ]
    },
    {
     "name": "stderr",
     "output_type": "stream",
     "text": [
      "100%|██████████| 937/937 [00:35<00:00, 29.82it/s]\n",
      "  0%|          | 3/937 [00:00<00:32, 28.65it/s]"
     ]
    },
    {
     "name": "stdout",
     "output_type": "stream",
     "text": [
      "Epoch 31; D-loss: -1.01813805103302, G-loss: 1.6334127187728882\n"
     ]
    },
    {
     "name": "stderr",
     "output_type": "stream",
     "text": [
      "100%|██████████| 937/937 [00:36<00:00, 25.60it/s]\n",
      "  0%|          | 0/937 [00:00<?, ?it/s]"
     ]
    },
    {
     "name": "stdout",
     "output_type": "stream",
     "text": [
      "Epoch 32; D-loss: -1.0036369562149048, G-loss: 1.6673284769058228\n"
     ]
    },
    {
     "name": "stderr",
     "output_type": "stream",
     "text": [
      "100%|██████████| 937/937 [00:36<00:00, 25.82it/s]\n",
      "  0%|          | 3/937 [00:00<00:32, 28.92it/s]"
     ]
    },
    {
     "name": "stdout",
     "output_type": "stream",
     "text": [
      "Epoch 33; D-loss: -0.9957017302513123, G-loss: 1.7219516038894653\n"
     ]
    },
    {
     "name": "stderr",
     "output_type": "stream",
     "text": [
      "100%|██████████| 937/937 [00:35<00:00, 25.74it/s]\n",
      "  0%|          | 4/937 [00:00<00:27, 33.45it/s]"
     ]
    },
    {
     "name": "stdout",
     "output_type": "stream",
     "text": [
      "Epoch 34; D-loss: -0.9944846630096436, G-loss: 1.9117313623428345\n"
     ]
    },
    {
     "name": "stderr",
     "output_type": "stream",
     "text": [
      "100%|██████████| 937/937 [00:36<00:00, 23.33it/s]\n",
      "  0%|          | 3/937 [00:00<00:31, 29.20it/s]"
     ]
    },
    {
     "name": "stdout",
     "output_type": "stream",
     "text": [
      "Epoch 35; D-loss: -0.9795263409614563, G-loss: 1.955557942390442\n"
     ]
    },
    {
     "name": "stderr",
     "output_type": "stream",
     "text": [
      "100%|██████████| 937/937 [00:35<00:00, 27.42it/s]\n",
      "  0%|          | 3/937 [00:00<00:31, 29.33it/s]"
     ]
    },
    {
     "name": "stdout",
     "output_type": "stream",
     "text": [
      "Epoch 36; D-loss: -0.971968412399292, G-loss: 2.1545753479003906\n"
     ]
    },
    {
     "name": "stderr",
     "output_type": "stream",
     "text": [
      "100%|██████████| 937/937 [00:36<00:00, 25.93it/s]\n",
      "  0%|          | 0/937 [00:00<?, ?it/s]"
     ]
    },
    {
     "name": "stdout",
     "output_type": "stream",
     "text": [
      "Epoch 37; D-loss: -0.964299201965332, G-loss: 2.2639870643615723\n"
     ]
    },
    {
     "name": "stderr",
     "output_type": "stream",
     "text": [
      "100%|██████████| 937/937 [00:36<00:00, 25.40it/s]\n",
      "  0%|          | 3/937 [00:00<00:31, 29.20it/s]"
     ]
    },
    {
     "name": "stdout",
     "output_type": "stream",
     "text": [
      "Epoch 38; D-loss: -0.954711377620697, G-loss: 2.3967676162719727\n"
     ]
    },
    {
     "name": "stderr",
     "output_type": "stream",
     "text": [
      "100%|██████████| 937/937 [00:35<00:00, 22.89it/s]\n",
      "  0%|          | 4/937 [00:00<00:27, 33.98it/s]"
     ]
    },
    {
     "name": "stdout",
     "output_type": "stream",
     "text": [
      "Epoch 39; D-loss: -0.9516186714172363, G-loss: 2.5369746685028076\n"
     ]
    },
    {
     "name": "stderr",
     "output_type": "stream",
     "text": [
      "100%|██████████| 937/937 [00:36<00:00, 25.80it/s]\n",
      "  0%|          | 0/937 [00:00<?, ?it/s]"
     ]
    },
    {
     "name": "stdout",
     "output_type": "stream",
     "text": [
      "Epoch 40; D-loss: -0.9465265870094299, G-loss: 2.6488163471221924\n"
     ]
    },
    {
     "name": "stderr",
     "output_type": "stream",
     "text": [
      "100%|██████████| 937/937 [00:35<00:00, 26.10it/s]\n",
      "  0%|          | 2/937 [00:00<00:47, 19.64it/s]"
     ]
    },
    {
     "name": "stdout",
     "output_type": "stream",
     "text": [
      "Epoch 41; D-loss: -0.9386964440345764, G-loss: 2.7682318687438965\n"
     ]
    },
    {
     "name": "stderr",
     "output_type": "stream",
     "text": [
      "100%|██████████| 937/937 [00:36<00:00, 25.50it/s]\n",
      "  0%|          | 0/937 [00:00<?, ?it/s]"
     ]
    },
    {
     "name": "stdout",
     "output_type": "stream",
     "text": [
      "Epoch 42; D-loss: -0.9270897507667542, G-loss: 2.8894052505493164\n"
     ]
    },
    {
     "name": "stderr",
     "output_type": "stream",
     "text": [
      "100%|██████████| 937/937 [00:36<00:00, 25.87it/s]\n",
      "  0%|          | 3/937 [00:00<00:31, 29.42it/s]"
     ]
    },
    {
     "name": "stdout",
     "output_type": "stream",
     "text": [
      "Epoch 43; D-loss: -0.9224354028701782, G-loss: 2.9353883266448975\n"
     ]
    },
    {
     "name": "stderr",
     "output_type": "stream",
     "text": [
      "100%|██████████| 937/937 [00:36<00:00, 25.40it/s]\n",
      "  0%|          | 0/937 [00:00<?, ?it/s]"
     ]
    },
    {
     "name": "stdout",
     "output_type": "stream",
     "text": [
      "Epoch 44; D-loss: -0.9199389219284058, G-loss: 3.0639121532440186\n"
     ]
    },
    {
     "name": "stderr",
     "output_type": "stream",
     "text": [
      "100%|██████████| 937/937 [00:36<00:00, 29.81it/s]\n",
      "  0%|          | 3/937 [00:00<00:32, 28.95it/s]"
     ]
    },
    {
     "name": "stdout",
     "output_type": "stream",
     "text": [
      "Epoch 45; D-loss: -0.9141716957092285, G-loss: 3.158052444458008\n"
     ]
    },
    {
     "name": "stderr",
     "output_type": "stream",
     "text": [
      "100%|██████████| 937/937 [00:35<00:00, 26.22it/s]\n"
     ]
    },
    {
     "name": "stdout",
     "output_type": "stream",
     "text": [
      "Epoch 46; D-loss: -0.9064716100692749, G-loss: 3.244152307510376\n"
     ]
    },
    {
     "name": "stderr",
     "output_type": "stream",
     "text": [
      "100%|██████████| 937/937 [00:35<00:00, 26.47it/s]\n",
      "  0%|          | 0/937 [00:00<?, ?it/s]"
     ]
    },
    {
     "name": "stdout",
     "output_type": "stream",
     "text": [
      "Epoch 47; D-loss: -0.9036457538604736, G-loss: 3.377753734588623\n"
     ]
    },
    {
     "name": "stderr",
     "output_type": "stream",
     "text": [
      "100%|██████████| 937/937 [00:36<00:00, 25.57it/s]\n",
      "  0%|          | 3/937 [00:00<00:31, 29.32it/s]"
     ]
    },
    {
     "name": "stdout",
     "output_type": "stream",
     "text": [
      "Epoch 48; D-loss: -0.8995914459228516, G-loss: 3.563458204269409\n"
     ]
    },
    {
     "name": "stderr",
     "output_type": "stream",
     "text": [
      "100%|██████████| 937/937 [00:35<00:00, 26.27it/s]"
     ]
    },
    {
     "name": "stdout",
     "output_type": "stream",
     "text": [
      "Epoch 49; D-loss: -0.893010675907135, G-loss: 3.7432827949523926\n"
     ]
    },
    {
     "name": "stderr",
     "output_type": "stream",
     "text": [
      "\n"
     ]
    }
   ],
   "source": [
    "import tqdm\n",
    "import numpy as np\n",
    "\n",
    "epochs = 50\n",
    "batch_size = 64\n",
    "input_data = x_train\n",
    "\n",
    "n_samples = input_data.shape[0]\n",
    "n_batches = n_samples // batch_size\n",
    "count = 0\n",
    "for i in range(epochs):\n",
    "    shuffled_idx = np.arange(n_samples)\n",
    "    np.random.shuffle(shuffled_idx)\n",
    "    shuffled_input = input_data[shuffled_idx]\n",
    "    d_loss = []\n",
    "    g_loss = []\n",
    "    for j in tqdm.trange(n_batches):\n",
    "        batch_input = shuffled_input[(j * batch_size):((j + 1) * batch_size)]\n",
    "        d_loss.append(gan_model.discriminator_train_on_batch(batch_input))\n",
    "        # d_weights = gan_model.discriminator.get_weights()\n",
    "        # gan_model.discriminator.set_weights([np.clip(w, -0.01, 0.01) for w in d_weights])\n",
    "        if count % 5 == 4:\n",
    "            g_loss.append(gan_model.generator_train_on_batch(batch_input))\n",
    "        count += 1\n",
    "    print('Epoch {}; D-loss: {}, G-loss: {}'.format(i, np.mean(d_loss), np.mean(g_loss)))"
   ]
  },
  {
   "cell_type": "code",
   "execution_count": 5,
   "metadata": {},
   "outputs": [
    {
     "data": {
      "image/png": "[encoded data removed]",
      "text/plain": [
       "<matplotlib.figure.Figure at 0x7f05b09a1e10>"
      ]
     },
     "metadata": {},
     "output_type": "display_data"
    }
   ],
   "source": [
    "%matplotlib inline\n",
    "plot_output(gan_model.generator)"
   ]
  },
  {
   "cell_type": "code",
   "execution_count": null,
   "metadata": {
    "collapsed": true
   },
   "outputs": [],
   "source": []
  }
 ],
 "metadata": {
  "kernelspec": {
   "display_name": "Python 3",
   "language": "python",
   "name": "python3"
  },
  "language_info": {
   "codemirror_mode": {
    "name": "ipython",
    "version": 3
   },
   "file_extension": ".py",
   "mimetype": "text/x-python",
   "name": "python",
   "nbconvert_exporter": "python",
   "pygments_lexer": "ipython3",
   "version": "3.6.0"
  }
 },
 "nbformat": 4,
 "nbformat_minor": 2
}
